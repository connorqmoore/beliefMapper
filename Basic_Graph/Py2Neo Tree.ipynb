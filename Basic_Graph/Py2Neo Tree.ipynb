{
 "cells": [
  {
   "cell_type": "markdown",
   "metadata": {},
   "source": [
    "# Setup Database Connection"
   ]
  },
  {
   "cell_type": "code",
   "execution_count": 1,
   "metadata": {
    "collapsed": false
   },
   "outputs": [],
   "source": [
    "import pandas as pd\n",
    "from pandas import DataFrame as df"
   ]
  },
  {
   "cell_type": "code",
   "execution_count": 2,
   "metadata": {
    "collapsed": false
   },
   "outputs": [
    {
     "name": "stdout",
     "output_type": "stream",
     "text": [
      "Using default neo4j username.\n"
     ]
    }
   ],
   "source": [
    "from os import environ\n",
    "\n",
    "try:\n",
    "    neo4juser = environ['NEO4JBMUSR']\n",
    "except KeyError:\n",
    "    print(\"Using default neo4j username.\")\n",
    "    neo4juser = 'neo4j'\n",
    "try:\n",
    "    neo4jpswd = environ['NEO4JBMPSWD']\n",
    "except KeyError:\n",
    "    print(\"Using default neo4j password.\")\n",
    "    neo4jpswd =  'neo4j'\n"
   ]
  },
  {
   "cell_type": "code",
   "execution_count": 3,
   "metadata": {
    "collapsed": false
   },
   "outputs": [],
   "source": [
    "from py2neo import Graph, Node, Relationship\n",
    "\n",
    "graph = Graph(host=\"localhost\", user=neo4juser, password=neo4jpswd)\n",
    "\n",
    "tx = graph.begin()"
   ]
  },
  {
   "cell_type": "markdown",
   "metadata": {},
   "source": [
    "## Test the connection"
   ]
  },
  {
   "cell_type": "code",
   "execution_count": 4,
   "metadata": {
    "collapsed": false
   },
   "outputs": [
    {
     "data": {
      "text/plain": [
       "<DBMS uri='http://localhost:7474/'>"
      ]
     },
     "execution_count": 4,
     "metadata": {},
     "output_type": "execute_result"
    }
   ],
   "source": [
    "graph.dbms"
   ]
  },
  {
   "cell_type": "code",
   "execution_count": 5,
   "metadata": {
    "collapsed": false
   },
   "outputs": [],
   "source": [
    "tx = graph.begin()"
   ]
  },
  {
   "cell_type": "code",
   "execution_count": 6,
   "metadata": {
    "collapsed": true
   },
   "outputs": [],
   "source": [
    "a = Node(\"Person\", name=\"Alice\")\n",
    "tx.create(a)\n",
    "tx.commit()"
   ]
  },
  {
   "cell_type": "code",
   "execution_count": 7,
   "metadata": {
    "collapsed": false
   },
   "outputs": [
    {
     "data": {
      "text/html": [
       "<div>\n",
       "<table border=\"1\" class=\"dataframe\">\n",
       "  <thead>\n",
       "    <tr style=\"text-align: right;\">\n",
       "      <th></th>\n",
       "      <th>labels(n1)</th>\n",
       "      <th>n1.name</th>\n",
       "    </tr>\n",
       "  </thead>\n",
       "  <tbody>\n",
       "    <tr>\n",
       "      <th>0</th>\n",
       "      <td>[Person]</td>\n",
       "      <td>Alice</td>\n",
       "    </tr>\n",
       "  </tbody>\n",
       "</table>\n",
       "</div>"
      ],
      "text/plain": [
       "  labels(n1) n1.name\n",
       "0   [Person]   Alice"
      ]
     },
     "execution_count": 7,
     "metadata": {},
     "output_type": "execute_result"
    }
   ],
   "source": [
    "df(graph.data('MATCH (n1) RETURN n1.name, labels(n1)'))"
   ]
  },
  {
   "cell_type": "code",
   "execution_count": 8,
   "metadata": {
    "collapsed": false
   },
   "outputs": [
    {
     "data": {
      "text/plain": [
       "True"
      ]
     },
     "execution_count": 8,
     "metadata": {},
     "output_type": "execute_result"
    }
   ],
   "source": [
    "graph.exists(a)"
   ]
  },
  {
   "cell_type": "code",
   "execution_count": 9,
   "metadata": {
    "collapsed": false
   },
   "outputs": [
    {
     "data": {
      "text/plain": [
       "True"
      ]
     },
     "execution_count": 9,
     "metadata": {},
     "output_type": "execute_result"
    }
   ],
   "source": [
    "a.has_label('Person')"
   ]
  },
  {
   "cell_type": "markdown",
   "metadata": {
    "collapsed": true
   },
   "source": [
    "## Create Policies"
   ]
  },
  {
   "cell_type": "code",
   "execution_count": 10,
   "metadata": {
    "collapsed": false
   },
   "outputs": [],
   "source": [
    "def createPolicy(name):\n",
    "    return Node(\"Policy\", name=name)\n",
    "\n",
    "def createArg(policy):\n",
    "    arg = Node(\"Argument\", name=policy['name'])\n",
    "    return (arg, Relationship(arg, 'instance', policy))\n",
    "\n",
    "def commitAll(args):\n",
    "    tx = graph.begin()\n",
    "    for arg in args:\n",
    "        tx.create(arg)\n",
    "    tx.commit()"
   ]
  },
  {
   "cell_type": "code",
   "execution_count": 11,
   "metadata": {
    "collapsed": false
   },
   "outputs": [],
   "source": [
    "p = createPolicy('Ban all guns')\n",
    "(arg, rel) = createArg(p)"
   ]
  },
  {
   "cell_type": "code",
   "execution_count": 12,
   "metadata": {
    "collapsed": false
   },
   "outputs": [],
   "source": [
    "commitAll([p, arg, rel])"
   ]
  },
  {
   "cell_type": "code",
   "execution_count": 13,
   "metadata": {
    "collapsed": true
   },
   "outputs": [],
   "source": [
    "def numVal(string):\n",
    "    try:\n",
    "        x = int(string.strip())\n",
    "    except:\n",
    "        raise ValueError('Please enter a number from 1-10, not \\'{}\\'.'.format(string))\n",
    "    if x<11 and x >0:\n",
    "        return x\n",
    "    else:\n",
    "        raise ValueError('Please enter a number from 1-10, not \\'{}\\'.'.format(x))\n",
    "    \n",
    "\n",
    "def inputVal(string):\n",
    "#   Make sure no fucked up strings stuff\n",
    "    return string\n",
    "\n",
    "# flatten list of lists to a single list\n",
    "def flatten(ll):\n",
    "    return [x for l in ll for x in l]"
   ]
  },
  {
   "cell_type": "code",
   "execution_count": 15,
   "metadata": {
    "collapsed": false
   },
   "outputs": [],
   "source": [
    "# numVal('     80')"
   ]
  },
  {
   "cell_type": "code",
   "execution_count": 16,
   "metadata": {
    "collapsed": false
   },
   "outputs": [],
   "source": [
    "def setConRel(sub_args, arg, pro_con):\n",
    "    confidence_string = 'How confident from 1-10 are you in \\'{}\\'? '\n",
    "    rel_string = 'From 1-10 how well does the statement \\'{}\\' confirm \\'{}\\'? '\n",
    "    new_sub_args = []\n",
    "    new_sub_rels = []\n",
    "    for sub_arg in sub_args:\n",
    "        valid_num = False\n",
    "        \n",
    "        while (not valid_num):\n",
    "            try:\n",
    "                confidence = numVal(input(confidence_string.format(sub_arg['name'])) )\n",
    "                valid_num = True\n",
    "            except ValueError:\n",
    "                print('Please enter a number from 1-10.')\n",
    "        \n",
    "        sub_arg['confidence'] = confidence\n",
    "        \n",
    "        valid_num = False\n",
    "        \n",
    "        while (not valid_num):\n",
    "            try:\n",
    "                rel = numVal(input(rel_string.format(sub_arg['name'], arg['name'])) )\n",
    "                valid_num = True\n",
    "            except ValueError:\n",
    "                print('Please enter a number from 1-10.')\n",
    "        \n",
    "        sub_rel = Relationship(arg, pro_con, sub_arg, relevance=rel)\n",
    "        \n",
    "        new_sub_args.append(sub_arg)\n",
    "        new_sub_rels.append(sub_rel)\n",
    "        \n",
    "    return (new_sub_args, new_sub_rels)\n",
    "        \n",
    "        \n",
    "def getArgs(arg):\n",
    "    sub_args = []\n",
    "    sub_rels = []\n",
    "    \n",
    "#   Get all sub args\n",
    "    input_string = 'Enter {} statement names for \\'{}\\' (type enter when done typing subarguments): '\n",
    "\n",
    "#   Pro Args\n",
    "    name = inputVal(input(input_string.format('supporting', arg['name'])) )\n",
    "    while(len(name) > 0):\n",
    "        sub_arg = Node(\"Statement\", name=name)\n",
    "        sub_args.append(sub_arg)\n",
    "        \n",
    "        name = inputVal(input(input_string.format('supporting', arg['name'])) )\n",
    "    \n",
    "#   Set sub arguments to adjusted args\n",
    "    (sub_args, sub_rels) = setConRel(sub_args, arg, 'Pro')\n",
    "    \n",
    "    con_sub_args = []\n",
    "    con_sub_rels = []\n",
    "#   Con args\n",
    "    name = inputVal(input(input_string.format('counter', arg['name'])) )\n",
    "    while(len(name) > 0):\n",
    "        con_sub_arg = Node(\"Statement\", name=name)\n",
    "        con_sub_args.append(con_sub_arg)\n",
    "        \n",
    "        name = inputVal(input(input_string.format('counter', arg['name'])) )\n",
    "        \n",
    "    #   Set sub arguments to adjusted args\n",
    "    (con_sub_args, con_sub_rels) = setConRel(con_sub_args, arg, 'Con')\n",
    "\n",
    "#   add pro and con sides of the argument together\n",
    "    sub_args += con_sub_args\n",
    "    sub_rels += con_sub_rels\n",
    "    \n",
    "    new_sub_args = []\n",
    "    new_sub_rels = []\n",
    "    if len(sub_args) > 0:\n",
    "        for sub_arg in sub_args:\n",
    "            (temp_args, temp_rels) = getArgs(sub_arg)\n",
    "            new_sub_args += temp_args\n",
    "            new_sub_rels += temp_rels\n",
    "    \n",
    "    return (sub_args+new_sub_args, sub_rels+new_sub_rels)"
   ]
  },
  {
   "cell_type": "code",
   "execution_count": 17,
   "metadata": {
    "collapsed": false
   },
   "outputs": [
    {
     "name": "stdout",
     "output_type": "stream",
     "text": [
      "Enter supporting statement names for 'Ban all guns' (type enter when done typing subarguments): Lower gun crimes\n",
      "Enter supporting statement names for 'Ban all guns' (type enter when done typing subarguments): \n",
      "How confident from 1-10 are you in 'Lower gun crimes'? 8\n",
      "From 1-10 how well does the statement 'Lower gun crimes' confirm 'Ban all guns'? 10\n",
      "Enter counter statement names for 'Ban all guns' (type enter when done typing subarguments): Check Government\n",
      "Enter counter statement names for 'Ban all guns' (type enter when done typing subarguments): Self Defense\n",
      "Enter counter statement names for 'Ban all guns' (type enter when done typing subarguments): Gun Industry/ Culture\n",
      "Enter counter statement names for 'Ban all guns' (type enter when done typing subarguments): \n",
      "How confident from 1-10 are you in 'Check Government'? 7\n",
      "From 1-10 how well does the statement 'Check Government' confirm 'Ban all guns'? 9\n",
      "How confident from 1-10 are you in 'Self Defense'? 3\n",
      "From 1-10 how well does the statement 'Self Defense' confirm 'Ban all guns'? 5\n",
      "How confident from 1-10 are you in 'Gun Industry/ Culture'? 10\n",
      "From 1-10 how well does the statement 'Gun Industry/ Culture' confirm 'Ban all guns'? 1\n",
      "Enter supporting statement names for 'Lower gun crimes' (type enter when done typing subarguments): Reduce number of guns for crimes\n",
      "Enter supporting statement names for 'Lower gun crimes' (type enter when done typing subarguments): \n",
      "How confident from 1-10 are you in 'Reduce number of guns for crimes'? Does not reduce violent crime\n",
      "Please enter a number from 1-10.\n",
      "How confident from 1-10 are you in 'Reduce number of guns for crimes'? 10\n",
      "From 1-10 how well does the statement 'Reduce number of guns for crimes' confirm 'Lower gun crimes'? 10\n",
      "Enter counter statement names for 'Lower gun crimes' (type enter when done typing subarguments): Does not reduce violent crime\n",
      "Enter counter statement names for 'Lower gun crimes' (type enter when done typing subarguments): \n",
      "How confident from 1-10 are you in 'Does not reduce violent crime'? 5\n",
      "From 1-10 how well does the statement 'Does not reduce violent crime' confirm 'Lower gun crimes'? 7\n",
      "Enter supporting statement names for 'Reduce number of guns for crimes' (type enter when done typing subarguments): In the last 15 years more than 200000 guns and 700 tons of ammo were taken off English streets and since 2005 a decline in gun crime continues\n",
      "Enter supporting statement names for 'Reduce number of guns for crimes' (type enter when done typing subarguments): \n",
      "How confident from 1-10 are you in 'In the last 15 years more than 200000 guns and 700 tons of ammo were taken off English streets and since 2005 a decline in gun crime continues'? 5\n",
      "From 1-10 how well does the statement 'In the last 15 years more than 200000 guns and 700 tons of ammo were taken off English streets and since 2005 a decline in gun crime continues' confirm 'Reduce number of guns for crimes'? 6\n",
      "Enter counter statement names for 'Reduce number of guns for crimes' (type enter when done typing subarguments): Criminals with guns will be more dangerous\n",
      "Enter counter statement names for 'Reduce number of guns for crimes' (type enter when done typing subarguments): \n",
      "How confident from 1-10 are you in 'Criminals with guns will be more dangerous'? 6\n",
      "From 1-10 how well does the statement 'Criminals with guns will be more dangerous' confirm 'Reduce number of guns for crimes'? 5\n",
      "Enter supporting statement names for 'In the last 15 years more than 200000 guns and 700 tons of ammo were taken off English streets and since 2005 a decline in gun crime continues' (type enter when done typing subarguments): \n",
      "Enter counter statement names for 'In the last 15 years more than 200000 guns and 700 tons of ammo were taken off English streets and since 2005 a decline in gun crime continues' (type enter when done typing subarguments): \n",
      "Enter supporting statement names for 'Criminals with guns will be more dangerous' (type enter when done typing subarguments): \n",
      "Enter counter statement names for 'Criminals with guns will be more dangerous' (type enter when done typing subarguments): Irrelevant because owning a firearm puts you at greater risk compared to someone that doesn't own one\n",
      "Enter counter statement names for 'Criminals with guns will be more dangerous' (type enter when done typing subarguments): \n",
      "How confident from 1-10 are you in 'Irrelevant because owning a firearm puts you at greater risk compared to someone that doesn't own one'? 10\n",
      "From 1-10 how well does the statement 'Irrelevant because owning a firearm puts you at greater risk compared to someone that doesn't own one' confirm 'Criminals with guns will be more dangerous'? 3\n",
      "Enter supporting statement names for 'Irrelevant because owning a firearm puts you at greater risk compared to someone that doesn't own one' (type enter when done typing subarguments): Owning a gun has been linked to higher risks of homicide, suicide, and accidental gun death\n",
      "Enter supporting statement names for 'Irrelevant because owning a firearm puts you at greater risk compared to someone that doesn't own one' (type enter when done typing subarguments): \n",
      "How confident from 1-10 are you in 'Owning a gun has been linked to higher risks of homicide, suicide, and accidental gun death'? 10\n",
      "From 1-10 how well does the statement 'Owning a gun has been linked to higher risks of homicide, suicide, and accidental gun death' confirm 'Irrelevant because owning a firearm puts you at greater risk compared to someone that doesn't own one'? 4\n",
      "Enter counter statement names for 'Irrelevant because owning a firearm puts you at greater risk compared to someone that doesn't own one' (type enter when done typing subarguments): \n",
      "Enter supporting statement names for 'Owning a gun has been linked to higher risks of homicide, suicide, and accidental gun death' (type enter when done typing subarguments): \n",
      "Enter counter statement names for 'Owning a gun has been linked to higher risks of homicide, suicide, and accidental gun death' (type enter when done typing subarguments): \n",
      "Enter supporting statement names for 'Does not reduce violent crime' (type enter when done typing subarguments): Every place that has banned guns has seen murder rates immediately rise\n",
      "Enter supporting statement names for 'Does not reduce violent crime' (type enter when done typing subarguments): \n",
      "How confident from 1-10 are you in 'Every place that has banned guns has seen murder rates immediately rise'? 10\n",
      "From 1-10 how well does the statement 'Every place that has banned guns has seen murder rates immediately rise' confirm 'Does not reduce violent crime'? 3\n",
      "Enter counter statement names for 'Does not reduce violent crime' (type enter when done typing subarguments): Guns are more destructive than other weapons, so gun violence is worse violence\n",
      "Enter counter statement names for 'Does not reduce violent crime' (type enter when done typing subarguments): \n",
      "How confident from 1-10 are you in 'Guns are more destructive than other weapons, so gun violence is worse violence'? 10\n",
      "From 1-10 how well does the statement 'Guns are more destructive than other weapons, so gun violence is worse violence' confirm 'Does not reduce violent crime'? 4\n",
      "Enter supporting statement names for 'Every place that has banned guns has seen murder rates immediately rise' (type enter when done typing subarguments): \n",
      "Enter counter statement names for 'Every place that has banned guns has seen murder rates immediately rise' (type enter when done typing subarguments): \n",
      "Enter supporting statement names for 'Guns are more destructive than other weapons, so gun violence is worse violence' (type enter when done typing subarguments): \n",
      "Enter counter statement names for 'Guns are more destructive than other weapons, so gun violence is worse violence' (type enter when done typing subarguments): \n",
      "Enter supporting statement names for 'Check Government' (type enter when done typing subarguments): If government became too powerful people could fight back with guns\n",
      "Enter supporting statement names for 'Check Government' (type enter when done typing subarguments): \n",
      "How confident from 1-10 are you in 'If government became too powerful people could fight back with guns'? 10\n",
      "From 1-10 how well does the statement 'If government became too powerful people could fight back with guns' confirm 'Check Government'? 9\n",
      "Enter counter statement names for 'Check Government' (type enter when done typing subarguments): People can rebel for bad reasons\n",
      "Enter counter statement names for 'Check Government' (type enter when done typing subarguments): \n",
      "How confident from 1-10 are you in 'People can rebel for bad reasons'? 10\n",
      "From 1-10 how well does the statement 'People can rebel for bad reasons' confirm 'Check Government'? 3\n",
      "Enter supporting statement names for 'If government became too powerful people could fight back with guns' (type enter when done typing subarguments): Guns are very important in fighting for your lives as they are the most effective weapon\n",
      "Enter supporting statement names for 'If government became too powerful people could fight back with guns' (type enter when done typing subarguments): If government can take gun away what keep them from taking away other effective measures of resistance?\n",
      "Enter supporting statement names for 'If government became too powerful people could fight back with guns' (type enter when done typing subarguments): \n",
      "How confident from 1-10 are you in 'Guns are very important in fighting for your lives as they are the most effective weapon'? 10\n",
      "From 1-10 how well does the statement 'Guns are very important in fighting for your lives as they are the most effective weapon' confirm 'If government became too powerful people could fight back with guns'? 6\n",
      "How confident from 1-10 are you in 'If government can take gun away what keep them from taking away other effective measures of resistance?'? 7\n",
      "From 1-10 how well does the statement 'If government can take gun away what keep them from taking away other effective measures of resistance?' confirm 'If government became too powerful people could fight back with guns'? 10\n",
      "Enter counter statement names for 'If government became too powerful people could fight back with guns' (type enter when done typing subarguments): Fighting is always wrong\n",
      "Enter counter statement names for 'If government became too powerful people could fight back with guns' (type enter when done typing subarguments): \n",
      "How confident from 1-10 are you in 'Fighting is always wrong'? 1\n",
      "From 1-10 how well does the statement 'Fighting is always wrong' confirm 'If government became too powerful people could fight back with guns'? 10\n",
      "Enter supporting statement names for 'Guns are very important in fighting for your lives as they are the most effective weapon' (type enter when done typing subarguments): The first thing Hitler and many other dictators do is take guns\n",
      "Enter supporting statement names for 'Guns are very important in fighting for your lives as they are the most effective weapon' (type enter when done typing subarguments): \n",
      "How confident from 1-10 are you in 'The first thing Hitler and many other dictators do is take guns'? 10\n",
      "From 1-10 how well does the statement 'The first thing Hitler and many other dictators do is take guns' confirm 'Guns are very important in fighting for your lives as they are the most effective weapon'? 6\n",
      "Enter counter statement names for 'Guns are very important in fighting for your lives as they are the most effective weapon' (type enter when done typing subarguments): Given tech advancement guns will be ineffective against government\n",
      "Enter counter statement names for 'Guns are very important in fighting for your lives as they are the most effective weapon' (type enter when done typing subarguments): \n",
      "How confident from 1-10 are you in 'Given tech advancement guns will be ineffective against government'? 6\n",
      "From 1-10 how well does the statement 'Given tech advancement guns will be ineffective against government' confirm 'Guns are very important in fighting for your lives as they are the most effective weapon'? 3\n",
      "Enter supporting statement names for 'The first thing Hitler and many other dictators do is take guns' (type enter when done typing subarguments): \n",
      "Enter counter statement names for 'The first thing Hitler and many other dictators do is take guns' (type enter when done typing subarguments): \n",
      "Enter supporting statement names for 'Given tech advancement guns will be ineffective against government' (type enter when done typing subarguments): Military holds very advanced weapons not able to be used by civilians, and advanced intel agencies\n",
      "Enter supporting statement names for 'Given tech advancement guns will be ineffective against government' (type enter when done typing subarguments): \n",
      "How confident from 1-10 are you in 'Military holds very advanced weapons not able to be used by civilians, and advanced intel agencies'? 10\n",
      "From 1-10 how well does the statement 'Military holds very advanced weapons not able to be used by civilians, and advanced intel agencies' confirm 'Given tech advancement guns will be ineffective against government'? 7\n",
      "Enter counter statement names for 'Given tech advancement guns will be ineffective against government' (type enter when done typing subarguments): \n",
      "Enter supporting statement names for 'Military holds very advanced weapons not able to be used by civilians, and advanced intel agencies' (type enter when done typing subarguments): \n",
      "Enter counter statement names for 'Military holds very advanced weapons not able to be used by civilians, and advanced intel agencies' (type enter when done typing subarguments): \n",
      "Enter supporting statement names for 'If government can take gun away what keep them from taking away other effective measures of resistance?' (type enter when done typing subarguments): Patriot act took privacy away\n",
      "Enter supporting statement names for 'If government can take gun away what keep them from taking away other effective measures of resistance?' (type enter when done typing subarguments): Already have a broad interpretation of second amendment so their will be legal protection for resistance opportunity\n",
      "Enter supporting statement names for 'If government can take gun away what keep them from taking away other effective measures of resistance?' (type enter when done typing subarguments): \n",
      "How confident from 1-10 are you in 'Patriot act took privacy away'? 10\n",
      "From 1-10 how well does the statement 'Patriot act took privacy away' confirm 'If government can take gun away what keep them from taking away other effective measures of resistance?'? 7\n",
      "How confident from 1-10 are you in 'Already have a broad interpretation of second amendment so their will be legal protection for resistance opportunity'? 10\n",
      "From 1-10 how well does the statement 'Already have a broad interpretation of second amendment so their will be legal protection for resistance opportunity' confirm 'If government can take gun away what keep them from taking away other effective measures of resistance?'? 10\n",
      "Enter counter statement names for 'If government can take gun away what keep them from taking away other effective measures of resistance?' (type enter when done typing subarguments): \n",
      "Enter supporting statement names for 'Patriot act took privacy away' (type enter when done typing subarguments): \n",
      "Enter counter statement names for 'Patriot act took privacy away' (type enter when done typing subarguments): \n",
      "Enter supporting statement names for 'Already have a broad interpretation of second amendment so their will be legal protection for resistance opportunity' (type enter when done typing subarguments): \n",
      "Enter counter statement names for 'Already have a broad interpretation of second amendment so their will be legal protection for resistance opportunity' (type enter when done typing subarguments): \n",
      "Enter supporting statement names for 'Fighting is always wrong' (type enter when done typing subarguments): \n",
      "Enter counter statement names for 'Fighting is always wrong' (type enter when done typing subarguments): \n",
      "Enter supporting statement names for 'People can rebel for bad reasons' (type enter when done typing subarguments): Civil War led to most US dead of any war in US history\n",
      "Enter supporting statement names for 'People can rebel for bad reasons' (type enter when done typing subarguments): \n",
      "How confident from 1-10 are you in 'Civil War led to most US dead of any war in US history'? 10\n",
      "From 1-10 how well does the statement 'Civil War led to most US dead of any war in US history' confirm 'People can rebel for bad reasons'? 3\n",
      "Enter counter statement names for 'People can rebel for bad reasons' (type enter when done typing subarguments): Rebellion can help correct bad government\n",
      "Enter counter statement names for 'People can rebel for bad reasons' (type enter when done typing subarguments): \n",
      "How confident from 1-10 are you in 'Rebellion can help correct bad government'? 10\n",
      "From 1-10 how well does the statement 'Rebellion can help correct bad government' confirm 'People can rebel for bad reasons'? 10\n",
      "Enter supporting statement names for 'Civil War led to most US dead of any war in US history' (type enter when done typing subarguments): \n",
      "Enter counter statement names for 'Civil War led to most US dead of any war in US history' (type enter when done typing subarguments): \n",
      "Enter supporting statement names for 'Rebellion can help correct bad government' (type enter when done typing subarguments): Civil war led to emancipation of slaves in the US\n",
      "Enter supporting statement names for 'Rebellion can help correct bad government' (type enter when done typing subarguments): \n",
      "How confident from 1-10 are you in 'Civil war led to emancipation of slaves in the US'? 10\n",
      "From 1-10 how well does the statement 'Civil war led to emancipation of slaves in the US' confirm 'Rebellion can help correct bad government'? 8\n",
      "Enter counter statement names for 'Rebellion can help correct bad government' (type enter when done typing subarguments): The wrong side of the war could have won leading to a worse government\n",
      "Enter counter statement names for 'Rebellion can help correct bad government' (type enter when done typing subarguments): \n",
      "How confident from 1-10 are you in 'The wrong side of the war could have won leading to a worse government'? 10\n",
      "From 1-10 how well does the statement 'The wrong side of the war could have won leading to a worse government' confirm 'Rebellion can help correct bad government'? 9\n",
      "Enter supporting statement names for 'Civil war led to emancipation of slaves in the US' (type enter when done typing subarguments): \n",
      "Enter counter statement names for 'Civil war led to emancipation of slaves in the US' (type enter when done typing subarguments): \n",
      "Enter supporting statement names for 'The wrong side of the war could have won leading to a worse government' (type enter when done typing subarguments): \n",
      "Enter counter statement names for 'The wrong side of the war could have won leading to a worse government' (type enter when done typing subarguments): \n",
      "Enter supporting statement names for 'Self Defense' (type enter when done typing subarguments): Guns used correctly thwart people putting your life at risk\n",
      "Enter supporting statement names for 'Self Defense' (type enter when done typing subarguments): \n",
      "How confident from 1-10 are you in 'Guns used correctly thwart people putting your life at risk'? 7\n",
      "From 1-10 how well does the statement 'Guns used correctly thwart people putting your life at risk' confirm 'Self Defense'? 10\n",
      "Enter counter statement names for 'Self Defense' (type enter when done typing subarguments): Using a gun for self defense can escalate an incident\n",
      "Enter counter statement names for 'Self Defense' (type enter when done typing subarguments): \n",
      "How confident from 1-10 are you in 'Using a gun for self defense can escalate an incident'? 8\n",
      "From 1-10 how well does the statement 'Using a gun for self defense can escalate an incident' confirm 'Self Defense'? 8\n",
      "Enter supporting statement names for 'Guns used correctly thwart people putting your life at risk' (type enter when done typing subarguments): Guns are used more often to intimidate intruders\n",
      "Enter supporting statement names for 'Guns used correctly thwart people putting your life at risk' (type enter when done typing subarguments): Defensive gun use is used 55,000-80,000 times a year\n",
      "Enter supporting statement names for 'Guns used correctly thwart people putting your life at risk' (type enter when done typing subarguments): \n",
      "How confident from 1-10 are you in 'Guns are used more often to intimidate intruders'? 10\n",
      "From 1-10 how well does the statement 'Guns are used more often to intimidate intruders' confirm 'Guns used correctly thwart people putting your life at risk'? 7\n",
      "How confident from 1-10 are you in 'Defensive gun use is used 55,000-80,000 times a year'? 9\n",
      "From 1-10 how well does the statement 'Defensive gun use is used 55,000-80,000 times a year' confirm 'Guns used correctly thwart people putting your life at risk'? 10\n",
      "Enter counter statement names for 'Guns used correctly thwart people putting your life at risk' (type enter when done typing subarguments): Victims were no less likely to prevent injury than if they took other protective action\n",
      "Enter counter statement names for 'Guns used correctly thwart people putting your life at risk' (type enter when done typing subarguments): \n",
      "How confident from 1-10 are you in 'Victims were no less likely to prevent injury than if they took other protective action'? 7\n",
      "From 1-10 how well does the statement 'Victims were no less likely to prevent injury than if they took other protective action' confirm 'Guns used correctly thwart people putting your life at risk'? 6\n",
      "Enter supporting statement names for 'Guns are used more often to intimidate intruders' (type enter when done typing subarguments): \n",
      "Enter counter statement names for 'Guns are used more often to intimidate intruders' (type enter when done typing subarguments): Often this tactic is illegal\n",
      "Enter counter statement names for 'Guns are used more often to intimidate intruders' (type enter when done typing subarguments): \n",
      "How confident from 1-10 are you in 'Often this tactic is illegal'? 3\n",
      "From 1-10 how well does the statement 'Often this tactic is illegal' confirm 'Guns are used more often to intimidate intruders'? 6\n",
      "Enter supporting statement names for 'Often this tactic is illegal' (type enter when done typing subarguments): \n",
      "Enter counter statement names for 'Often this tactic is illegal' (type enter when done typing subarguments): \n",
      "Enter supporting statement names for 'Defensive gun use is used 55,000-80,000 times a year' (type enter when done typing subarguments): \n",
      "Enter counter statement names for 'Defensive gun use is used 55,000-80,000 times a year' (type enter when done typing subarguments): \n",
      "Enter supporting statement names for 'Victims were no less likely to prevent injury than if they took other protective action' (type enter when done typing subarguments): \n",
      "Enter counter statement names for 'Victims were no less likely to prevent injury than if they took other protective action' (type enter when done typing subarguments): \n",
      "Enter supporting statement names for 'Using a gun for self defense can escalate an incident' (type enter when done typing subarguments): Criminals who are shot are often considered the victim of a crim\n",
      "Enter supporting statement names for 'Using a gun for self defense can escalate an incident' (type enter when done typing subarguments): \n",
      "How confident from 1-10 are you in 'Criminals who are shot are often considered the victim of a crim'? 3\n",
      "From 1-10 how well does the statement 'Criminals who are shot are often considered the victim of a crim' confirm 'Using a gun for self defense can escalate an incident'? 2\n",
      "Enter counter statement names for 'Using a gun for self defense can escalate an incident' (type enter when done typing subarguments): \n",
      "Enter supporting statement names for 'Criminals who are shot are often considered the victim of a crim' (type enter when done typing subarguments): \n",
      "Enter counter statement names for 'Criminals who are shot are often considered the victim of a crim' (type enter when done typing subarguments): \n",
      "Enter supporting statement names for 'Gun Industry/ Culture' (type enter when done typing subarguments): 35,000 people employed by firearm manufacturers\n",
      "Enter supporting statement names for 'Gun Industry/ Culture' (type enter when done typing subarguments): 123 million collected from gun taxes\n",
      "Enter supporting statement names for 'Gun Industry/ Culture' (type enter when done typing subarguments): 32% of Americans own a gun\n",
      "Enter supporting statement names for 'Gun Industry/ Culture' (type enter when done typing subarguments): 14.82 million hunters in USA\n",
      "Enter supporting statement names for 'Gun Industry/ Culture' (type enter when done typing subarguments): \n",
      "How confident from 1-10 are you in '35,000 people employed by firearm manufacturers'? 10\n",
      "From 1-10 how well does the statement '35,000 people employed by firearm manufacturers' confirm 'Gun Industry/ Culture'? 4\n",
      "How confident from 1-10 are you in '123 million collected from gun taxes'? 10\n",
      "From 1-10 how well does the statement '123 million collected from gun taxes' confirm 'Gun Industry/ Culture'? 4\n",
      "How confident from 1-10 are you in '32% of Americans own a gun'? 10\n",
      "From 1-10 how well does the statement '32% of Americans own a gun' confirm 'Gun Industry/ Culture'? 5\n",
      "How confident from 1-10 are you in '14.82 million hunters in USA'? 10\n",
      "From 1-10 how well does the statement '14.82 million hunters in USA' confirm 'Gun Industry/ Culture'? 4\n",
      "Enter counter statement names for 'Gun Industry/ Culture' (type enter when done typing subarguments): This is a bad part of American Culture \n",
      "Enter counter statement names for 'Gun Industry/ Culture' (type enter when done typing subarguments): \n",
      "How confident from 1-10 are you in 'This is a bad part of American Culture '? 2\n",
      "From 1-10 how well does the statement 'This is a bad part of American Culture ' confirm 'Gun Industry/ Culture'? 10\n",
      "Enter supporting statement names for '35,000 people employed by firearm manufacturers' (type enter when done typing subarguments): \n",
      "Enter counter statement names for '35,000 people employed by firearm manufacturers' (type enter when done typing subarguments): \n",
      "Enter supporting statement names for '123 million collected from gun taxes' (type enter when done typing subarguments): \n",
      "Enter counter statement names for '123 million collected from gun taxes' (type enter when done typing subarguments): \n",
      "Enter supporting statement names for '32% of Americans own a gun' (type enter when done typing subarguments): \n",
      "Enter counter statement names for '32% of Americans own a gun' (type enter when done typing subarguments): \n",
      "Enter supporting statement names for '14.82 million hunters in USA' (type enter when done typing subarguments): \n",
      "Enter counter statement names for '14.82 million hunters in USA' (type enter when done typing subarguments): \n",
      "Enter supporting statement names for 'This is a bad part of American Culture ' (type enter when done typing subarguments): Hunting can hurt the wildlife\n",
      "Enter supporting statement names for 'This is a bad part of American Culture ' (type enter when done typing subarguments): \n",
      "How confident from 1-10 are you in 'Hunting can hurt the wildlife'? 1\n",
      "From 1-10 how well does the statement 'Hunting can hurt the wildlife' confirm 'This is a bad part of American Culture '? 10\n",
      "Enter counter statement names for 'This is a bad part of American Culture ' (type enter when done typing subarguments): \n",
      "Enter supporting statement names for 'Hunting can hurt the wildlife' (type enter when done typing subarguments): Lead to extiniction of animals\n",
      "Enter supporting statement names for 'Hunting can hurt the wildlife' (type enter when done typing subarguments): \n",
      "How confident from 1-10 are you in 'Lead to extiniction of animals'? 1\n",
      "From 1-10 how well does the statement 'Lead to extiniction of animals' confirm 'Hunting can hurt the wildlife'? 2\n",
      "Enter counter statement names for 'Hunting can hurt the wildlife' (type enter when done typing subarguments): Prevent over population\n",
      "Enter counter statement names for 'Hunting can hurt the wildlife' (type enter when done typing subarguments): \n",
      "How confident from 1-10 are you in 'Prevent over population'? 10\n",
      "From 1-10 how well does the statement 'Prevent over population' confirm 'Hunting can hurt the wildlife'? 2\n",
      "Enter supporting statement names for 'Lead to extiniction of animals' (type enter when done typing subarguments): \n",
      "Enter counter statement names for 'Lead to extiniction of animals' (type enter when done typing subarguments): \n",
      "Enter supporting statement names for 'Prevent over population' (type enter when done typing subarguments): \n",
      "Enter counter statement names for 'Prevent over population' (type enter when done typing subarguments): \n"
     ]
    }
   ],
   "source": [
    "rels_args = flatten(getArgs(arg))"
   ]
  },
  {
   "cell_type": "code",
   "execution_count": 18,
   "metadata": {
    "collapsed": false
   },
   "outputs": [],
   "source": [
    "commitAll(rels_args)"
   ]
  },
  {
   "cell_type": "code",
   "execution_count": null,
   "metadata": {
    "collapsed": true
   },
   "outputs": [],
   "source": []
  }
 ],
 "metadata": {
  "anaconda-cloud": {},
  "kernelspec": {
   "display_name": "Python [conda root]",
   "language": "python",
   "name": "conda-root-py"
  },
  "language_info": {
   "codemirror_mode": {
    "name": "ipython",
    "version": 3
   },
   "file_extension": ".py",
   "mimetype": "text/x-python",
   "name": "python",
   "nbconvert_exporter": "python",
   "pygments_lexer": "ipython3",
   "version": "3.5.2"
  }
 },
 "nbformat": 4,
 "nbformat_minor": 1
}
